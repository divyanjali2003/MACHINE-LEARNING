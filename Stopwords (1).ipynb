{
 "cells": [
  {
   "cell_type": "code",
   "execution_count": 2,
   "id": "fc3aaeb9-8373-4e02-ac3b-35b6cc74cf36",
   "metadata": {},
   "outputs": [
    {
     "name": "stdout",
     "output_type": "stream",
     "text": [
      "{'him', 're', 'some', 'are', \"you'll\", 'your', 'and', 'doesn', 'is', \"wouldn't\", 'at', \"weren't\", \"didn't\", 'myself', \"hadn't\", 'where', 'than', 'my', 'needn', 'what', 'here', 'yours', 'as', 'over', 'how', 'hasn', 'few', 'during', 'more', 'i', 'down', 'yourself', 'by', 'then', 'won', 'so', \"it's\", 'her', 'she', 'themselves', 'when', 'wouldn', 'shan', \"you've\", 'being', 'in', 'below', 'am', 'ma', 'does', 'if', 'any', 'now', 'against', \"should've\", 'herself', 'out', 'after', 'you', 'both', 'all', 'own', 'other', 'again', \"doesn't\", 'through', 'they', \"hasn't\", 'hers', 'with', 'further', 'this', 'most', 'such', 'no', 'nor', 'theirs', 'couldn', 'has', 'which', \"isn't\", \"shouldn't\", 'ain', 'y', 'been', \"aren't\", 'shouldn', 'yourselves', \"that'll\", 'these', \"you're\", \"don't\", 'the', 've', 't', 'because', 'o', 'before', 'mightn', 'just', 'don', 'between', 'about', 'isn', 'had', 'very', 'whom', 'doing', 'do', 'into', 'will', 'that', 'ours', 'having', 'himself', 'he', \"mustn't\", 'mustn', 'or', 'why', 'above', 'those', 'their', 'from', 'not', 's', 'aren', 'of', 'its', 'up', 'only', \"mightn't\", 'weren', 'an', 'his', 'our', 'should', 'there', \"she's\", 'hadn', 'll', 'on', \"wasn't\", 'm', 'was', 'who', 'we', 'off', 'd', 'to', 'did', 'didn', \"haven't\", \"needn't\", 'too', 'while', 'haven', 'itself', 'once', \"you'd\", 'until', \"shan't\", 'each', 'same', 'them', 'it', 'be', 'but', 'wasn', 'me', 'have', 'ourselves', 'under', 'were', 'can', \"won't\", \"couldn't\", 'for', 'a'}\n"
     ]
    },
    {
     "name": "stderr",
     "output_type": "stream",
     "text": [
      "[nltk_data] Downloading package stopwords to\n",
      "[nltk_data]     C:\\Users\\Diyanjali\\AppData\\Roaming\\nltk_data...\n",
      "[nltk_data]   Package stopwords is already up-to-date!\n"
     ]
    }
   ],
   "source": [
    "#NLTK\n",
    "import nltk\n",
    "from nltk.corpus import stopwords\n",
    "nltk.download('stopwords')\n",
    "stop_words_nltk=set(stopwords.words('english'))\n",
    "print(stop_words_nltk)"
   ]
  },
  {
   "cell_type": "code",
   "execution_count": 6,
   "id": "75fa9e05-5e95-4a3f-ade8-216fd022c16e",
   "metadata": {},
   "outputs": [
    {
     "name": "stdout",
     "output_type": "stream",
     "text": [
      "{'him', 're', 'six', 'beside', 'mostly', 'could', 'becoming', 'nobody', 'wherever', 'n‘t', 'as', 'whither', 'i', 'perhaps', 'often', 'by', 'whose', 'whereas', 'when', 'among', 'top', 'whoever', 'if', 'now', 'third', 'own', 'hereupon', '’ll', 'go', \"'ll\", 'four', 'which', \"'m\", '’ve', 'whereby', 'yourselves', 'various', 'these', 'the', 'still', 'something', 'had', 'very', 'well', 'into', 'elsewhere', 'along', 'that', 'ours', 'he', 'or', 'above', 'else', 'show', 'somewhere', 'their', 'get', 'his', 'should', 'whereupon', 'hence', 'made', 'whenever', 'even', 'enough', 'toward', 'whatever', 'take', 'regarding', 'beforehand', 'thereupon', 'ca', 'but', 'ourselves', 'wherein', 'can', 'seemed', 'others', 'forty', 'never', 'amount', 'thence', 'anyone', 'your', 'using', 'became', 'put', 'somehow', 'than', 'anyhow', 'here', 'what', 'yours', 'over', 'how', 'via', '‘ll', 'afterwards', 'down', 'except', 'whether', '‘re', 'less', 'must', 'being', 'in', 'does', 'fifty', 'you', 'all', 'sometimes', 'across', 'serious', 'they', 'within', 'hers', 'further', 'most', 'such', 'no', 'has', 'becomes', 'twenty', 'therefore', 'cannot', 'however', 'first', 'keep', 'also', 'amongst', \"n't\", 'give', '’m', 'whom', 'onto', '‘ve', 'will', 'done', 'himself', 'us', 'whence', 'would', 'those', 'thereby', 'throughout', 'hereby', 'may', 'an', 'several', 'nothing', 'thus', 'meanwhile', 'please', 'once', 'part', 'eight', 'unless', 'be', '’s', 'have', 'under', 'make', '’d', 'therein', 'a', 'mine', 'some', 'are', 'move', 'alone', 'and', 'is', 'at', 'without', 'might', 'where', 'my', 'nine', 'quite', 'during', 'more', 'really', 'so', \"'s\", 'she', 'themselves', 'thereafter', 'three', 'thru', 'either', 'any', 'moreover', 'namely', '‘d', 'least', 'through', 'indeed', 'with', 'seeming', 'this', 'been', 'seems', 'because', 'before', 'fifteen', 'neither', 'about', 'do', 'latterly', 'towards', 'see', 'from', 'name', 'already', 'of', 'up', 'everything', 'our', 'there', 'on', 'behind', 'who', 'ten', 'we', 'none', 'off', 'seem', 'though', 'nowhere', 'while', 'latter', 'itself', 'around', 'due', '’re', 'bottom', 'until', 'many', 'sometime', 'each', 'it', \"'ve\", 'otherwise', 'were', 'call', 'besides', 'someone', 'not', 'together', 'eleven', 'nevertheless', '‘m', 'herein', 'side', 'myself', 'always', 'beyond', 'former', 'few', 'yourself', 'whereafter', 'then', 'although', 'her', 'every', 'used', 'ever', 'full', 'below', 'am', 'five', 'anyway', 'against', 'whole', 'herself', 'out', 'almost', 'after', 'both', 'anything', 'other', 'back', 'everywhere', 'again', 'nor', 'empty', 'formerly', \"'re\", 'anywhere', 'much', 'just', 'rather', 'hundred', 'between', 'twelve', 'doing', 'since', 'why', '‘s', 'front', 'its', 'only', \"'d\", 'sixty', 'one', 'say', 'hereafter', 'was', 'to', 'did', 'become', 'too', 'two', 'upon', 'n’t', 'everyone', 'next', 'same', 'them', 'noone', 'last', 'me', 'yet', 'another', 'per', 'for'}\n"
     ]
    }
   ],
   "source": [
    "#spacy\n",
    "import spacy\n",
    "nlp=spacy.blank(\"en\")\n",
    "stop_words_spacy=nlp.Defaults.stop_words\n",
    "print(stop_words_spacy)"
   ]
  },
  {
   "cell_type": "code",
   "execution_count": 16,
   "id": "74df1095-68b5-40b2-9809-c18716ca131b",
   "metadata": {},
   "outputs": [
    {
     "name": "stdout",
     "output_type": "stream",
     "text": [
      "orginal Text This is an example sentence to demonstrate stop word removes in NLP.\n",
      "Filtered Text: example sentence demonstrate stop word removes NLP .\n"
     ]
    },
    {
     "name": "stderr",
     "output_type": "stream",
     "text": [
      "[nltk_data] Downloading package stopwords to\n",
      "[nltk_data]     C:\\Users\\Diyanjali\\AppData\\Roaming\\nltk_data...\n",
      "[nltk_data]   Package stopwords is already up-to-date!\n",
      "[nltk_data] Downloading package punkt to\n",
      "[nltk_data]     C:\\Users\\Diyanjali\\AppData\\Roaming\\nltk_data...\n",
      "[nltk_data]   Package punkt is already up-to-date!\n"
     ]
    }
   ],
   "source": [
    "#remove\n",
    "import nltk\n",
    "from nltk.corpus import stopwords\n",
    "from nltk.tokenize import word_tokenize\n",
    "nltk.download('stopwords')\n",
    "nltk.download('punkt')\n",
    "text=\"This is an example sentence to demonstrate stop word removes in NLP.\"\n",
    "stop_words=set(stopwords.words('english'))\n",
    "words=word_tokenize(text)\n",
    "filtered_text = [word for word in words if word.lower() not in stop_words]\n",
    "print(\"orginal Text\",text)\n",
    "print(\"Filtered Text:\", \" \".join(filtered_text))"
   ]
  },
  {
   "cell_type": "code",
   "execution_count": 20,
   "id": "a93147a5-db49-41d6-b991-daee95e7b39b",
   "metadata": {},
   "outputs": [
    {
     "name": "stdout",
     "output_type": "stream",
     "text": [
      "filtered Text:.join(filtered_text)\n"
     ]
    }
   ],
   "source": [
    "import spacy\n",
    "nlp=spacy.load(\"en_core_web_sm\")\n",
    "text=\"This is an example sentence to demonstrate stop word removal in NLP.\"\n",
    "doc=nlp(text)\n",
    "filtered_text=[token.text for token in doc if not token.is_stop]\n",
    "print(\"filtered Text:\"\".join(filtered_text)\")"
   ]
  },
  {
   "cell_type": "code",
   "execution_count": 1,
   "id": "e26a74a3-a995-41c0-a864-740f352abf98",
   "metadata": {},
   "outputs": [
    {
     "name": "stdout",
     "output_type": "stream",
     "text": [
      "Original Text: This is an example sentence demonstrating stopword removal in NLP.\n",
      "Tokenized Words: ['this', 'is', 'an', 'example', 'sentence', 'demonstrating', 'stopword', 'removal', 'in', 'nlp', '.']\n",
      "Filtered Words: ['example', 'sentence', 'demonstrating', 'stopword', 'removal', 'nlp', '.']\n"
     ]
    },
    {
     "name": "stderr",
     "output_type": "stream",
     "text": [
      "[nltk_data] Downloading package stopwords to\n",
      "[nltk_data]     C:\\Users\\Diyanjali\\AppData\\Roaming\\nltk_data...\n",
      "[nltk_data]   Package stopwords is already up-to-date!\n",
      "[nltk_data] Downloading package punkt to\n",
      "[nltk_data]     C:\\Users\\Diyanjali\\AppData\\Roaming\\nltk_data...\n",
      "[nltk_data]   Package punkt is already up-to-date!\n"
     ]
    }
   ],
   "source": [
    "import nltk\n",
    "from nltk.corpus import stopwords\n",
    "from nltk.tokenize import word_tokenize\n",
    "nltk.download('stopwords')\n",
    "nltk.download('punkt')\n",
    "text = \"This is an example sentence demonstrating stopword removal in NLP.\"\n",
    "words = word_tokenize(text.lower())\n",
    "stop_words = set(stopwords.words('english'))\n",
    "filtered_words = [word for word in words if word not in stop_words]\n",
    "print(\"Original Text:\", text)\n",
    "print(\"Tokenized Words:\", words)\n",
    "print(\"Filtered Words:\", filtered_words)"
   ]
  },
  {
   "cell_type": "code",
   "execution_count": null,
   "id": "52e37df4-c7af-411f-ac64-7d9737356122",
   "metadata": {},
   "outputs": [],
   "source": [
    "import pandas as pd\n",
    "import nltk\n",
    "from nltk.corpus import stopwords\n",
    "from nltk.tokenize import word_tokenize\n",
    "nltk.download('stopwords')\n",
    "nltk.download('punkt')\n",
    "data = {'Text': [\"This is the first sentence.\", \n",
    "                 \"Another example with stopwords.\", \n",
    "                 \"Stopwords removal is useful in NLP.\"]}\n",
    "df = pd.DataFrame(data)\n",
    "def remove_stopwords(text):\n",
    "    words = word_tokenize(text.lower())  # Tokenize and convert to lowercase\n",
    "    stop_words = set(stopwords.words('english'))\n",
    "    return \" \".join([word for word in words if word not in stop_words])\n",
    "\n",
    "# Apply the function to the dataframe\n",
    "df[\"Filtered_Text\"] = df[\"Text\"].apply(remove_stopwords)\n",
    "\n",
    "print(df)\n"
   ]
  }
 ],
 "metadata": {
  "kernelspec": {
   "display_name": "Python [conda env:base] *",
   "language": "python",
   "name": "conda-base-py"
  },
  "language_info": {
   "codemirror_mode": {
    "name": "ipython",
    "version": 3
   },
   "file_extension": ".py",
   "mimetype": "text/x-python",
   "name": "python",
   "nbconvert_exporter": "python",
   "pygments_lexer": "ipython3",
   "version": "3.12.7"
  }
 },
 "nbformat": 4,
 "nbformat_minor": 5
}
