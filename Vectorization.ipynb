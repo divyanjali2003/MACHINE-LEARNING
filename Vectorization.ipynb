{
 "cells": [
  {
   "cell_type": "code",
   "execution_count": 9,
   "id": "08649960-13f0-4c4a-8870-98fac8cf4a6e",
   "metadata": {},
   "outputs": [
    {
     "name": "stdout",
     "output_type": "stream",
     "text": [
      "Vocabulary: ['ai' 'and' 'like' 'nlp']\n",
      "Count matrix:\n",
      " [[0 0 1 1]\n",
      " [1 1 1 1]]\n"
     ]
    }
   ],
   "source": [
    "from sklearn.feature_extraction.text import CountVectorizer\n",
    "corpus = [\"I like NLP\", \"I like AI and NLP\"]\n",
    "vectorizer = CountVectorizer()\n",
    "x = vectorizer.fit_transform(corpus)\n",
    "print(\"Vocabulary:\", vectorizer.get_feature_names_out())  \n",
    "print(\"Count matrix:\\n\", x.toarray())"
   ]
  },
  {
   "cell_type": "code",
   "execution_count": 15,
   "id": "0caf1b66-8bd5-4aa2-9d66-07f3d66f4363",
   "metadata": {},
   "outputs": [
    {
     "name": "stdout",
     "output_type": "stream",
     "text": [
      "Vocabulary: ['amazing' 'and' 'is' 'it' 'love' 'nlp']\n",
      "TF-IDF matrix:\n",
      " [[0.         0.         0.         0.         0.70710678 0.70710678]\n",
      " [0.44665616 0.44665616 0.44665616 0.44665616 0.31779954 0.31779954]]\n"
     ]
    }
   ],
   "source": [
    "from sklearn.feature_extraction.text import TfidfVectorizer\n",
    "documents = [\"I LOVE NLP\", \"NLP is amazing and I love it\"]\n",
    "vectorizer = TfidfVectorizer()\n",
    "x = vectorizer.fit_transform(documents)\n",
    "print(\"Vocabulary:\", vectorizer.get_feature_names_out())\n",
    "print(\"TF-IDF matrix:\\n\", x.toarray()) "
   ]
  },
  {
   "cell_type": "code",
   "execution_count": 17,
   "id": "700c7706-9576-4d2e-9bdb-691ed68b660f",
   "metadata": {},
   "outputs": [
    {
     "name": "stdout",
     "output_type": "stream",
     "text": [
      "Vocabulary: ['amazing' 'and' 'deep' 'is' 'learning' 'love' 'machine' 'nlp']\n",
      "TF-IDF Matrix:\n",
      " [[0.         0.53409337 0.         0.         0.31544415 0.40619178\n",
      "  0.40619178 0.53409337]\n",
      " [0.5844829  0.         0.         0.5844829  0.34520502 0.\n",
      "  0.44451431 0.        ]\n",
      " [0.         0.         0.72033345 0.         0.42544054 0.54783215\n",
      "  0.         0.        ]]\n"
     ]
    }
   ],
   "source": [
    "from sklearn.feature_extraction.text import TfidfVectorizer\n",
    "documents = [\n",
    "    \"I love NLP and Machine Learning\",\n",
    "    \"Machine Learning is amazing\",\n",
    "    \"I love deep learning\"\n",
    "]\n",
    "vectorizer = TfidfVectorizer()\n",
    "x = vectorizer.fit_transform(documents)\n",
    "print(\"Vocabulary:\", vectorizer.get_feature_names_out())\n",
    "print(\"TF-IDF Matrix:\\n\", x.toarray())"
   ]
  },
  {
   "cell_type": "code",
   "execution_count": 19,
   "id": "6405cbeb-5d2c-4b2c-b66f-ad8b0c82b866",
   "metadata": {},
   "outputs": [
    {
     "name": "stdout",
     "output_type": "stream",
     "text": [
      "Vocabulary: ['amazing' 'deep' 'learning' 'love' 'machine' 'nlp']\n",
      "TF-IDF Matrix:\n",
      " [[0.         0.         0.37311881 0.4804584  0.4804584  0.63174505]\n",
      " [0.72033345 0.         0.42544054 0.         0.54783215 0.        ]\n",
      " [0.         0.72033345 0.42544054 0.54783215 0.         0.        ]]\n"
     ]
    }
   ],
   "source": [
    "vectorizer = TfidfVectorizer(stop_words=\"english\")\n",
    "x = vectorizer.fit_transform(documents)\n",
    "print(\"Vocabulary:\", vectorizer.get_feature_names_out())\n",
    "print(\"TF-IDF Matrix:\\n\", x.toarray())"
   ]
  },
  {
   "cell_type": "code",
   "execution_count": 21,
   "id": "14a7be19-50b9-4bd0-9a41-a93ae741ec73",
   "metadata": {},
   "outputs": [
    {
     "name": "stdout",
     "output_type": "stream",
     "text": [
      "Vocabulary: ['amazing' 'and' 'learning' 'love' 'machine']\n",
      "TF-IDF Matrix:\n",
      " [[0.         0.63174505 0.37311881 0.4804584  0.4804584 ]\n",
      " [0.72033345 0.         0.42544054 0.         0.54783215]\n",
      " [0.         0.         0.61335554 0.78980693 0.        ]]\n"
     ]
    }
   ],
   "source": [
    "vectorizer = TfidfVectorizer(max_features=5)\n",
    "x = vectorizer.fit_transform(documents)\n",
    "print(\"Vocabulary:\", vectorizer.get_feature_names_out())\n",
    "print(\"TF-IDF Matrix:\\n\", x.toarray())"
   ]
  },
  {
   "cell_type": "code",
   "execution_count": 23,
   "id": "b56bf9b5-caca-4879-b273-4199b727014d",
   "metadata": {},
   "outputs": [
    {
     "name": "stdout",
     "output_type": "stream",
     "text": [
      "Vocabulary: ['Learning' 'Machine' 'NLP' 'amazing' 'and' 'deep' 'is' 'love']\n",
      "TF-IDF Matrix:\n",
      " [[0.3935112  0.3935112  0.51741994 0.         0.51741994 0.\n",
      "  0.         0.3935112 ]\n",
      " [0.42804604 0.42804604 0.         0.5628291  0.         0.\n",
      "  0.5628291  0.        ]\n",
      " [0.         0.         0.         0.         0.         0.79596054\n",
      "  0.         0.60534851]]\n"
     ]
    }
   ],
   "source": [
    "vectorizer = TfidfVectorizer(stop_words=[\"machine\", \"learning\"], lowercase=False)\n",
    "x = vectorizer.fit_transform(documents)\n",
    "print(\"Vocabulary:\", vectorizer.get_feature_names_out())\n",
    "print(\"TF-IDF Matrix:\\n\", x.toarray())"
   ]
  },
  {
   "cell_type": "code",
   "execution_count": null,
   "id": "24f389e2-667b-4fb6-8974-9b7c8dcfeb96",
   "metadata": {},
   "outputs": [],
   "source": []
  }
 ],
 "metadata": {
  "kernelspec": {
   "display_name": "Python [conda env:base] *",
   "language": "python",
   "name": "conda-base-py"
  },
  "language_info": {
   "codemirror_mode": {
    "name": "ipython",
    "version": 3
   },
   "file_extension": ".py",
   "mimetype": "text/x-python",
   "name": "python",
   "nbconvert_exporter": "python",
   "pygments_lexer": "ipython3",
   "version": "3.12.7"
  }
 },
 "nbformat": 4,
 "nbformat_minor": 5
}
