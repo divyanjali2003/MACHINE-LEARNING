{
 "cells": [
  {
   "cell_type": "code",
   "execution_count": 7,
   "id": "e981fcc5-3e7d-4069-b054-e090105c49ed",
   "metadata": {},
   "outputs": [
    {
     "name": "stdout",
     "output_type": "stream",
     "text": [
      "[1 2 0 1 2]\n"
     ]
    }
   ],
   "source": [
    "from sklearn.preprocessing import LabelEncoder\n",
    "data=['low','medium','high','low','medium']\n",
    "le=LabelEncoder()\n",
    "encoded_data=le.fit_transform(data)\n",
    "print(encoded_data)"
   ]
  },
  {
   "cell_type": "code",
   "execution_count": 11,
   "id": "78ea85a9-3837-4b68-b631-2266abc23ee8",
   "metadata": {},
   "outputs": [
    {
     "name": "stdout",
     "output_type": "stream",
     "text": [
      "   color_blue  color_green  color_red\n",
      "0       False        False       True\n",
      "1        True        False      False\n",
      "2       False         True      False\n",
      "3       False        False       True\n"
     ]
    }
   ],
   "source": [
    "import pandas as pd\n",
    "data=['red','blue','green','red']\n",
    "df=pd.DataFrame(data,columns=['color'])\n",
    "encoded_data=pd.get_dummies(df,columns=['color'])\n",
    "print(encoded_data)"
   ]
  },
  {
   "cell_type": "code",
   "execution_count": 13,
   "id": "416ce600-2e3a-4524-90d3-7e7bc3396a01",
   "metadata": {},
   "outputs": [
    {
     "name": "stdout",
     "output_type": "stream",
     "text": [
      "   color_green  color_red\n",
      "0        False       True\n",
      "1        False      False\n",
      "2         True      False\n",
      "3        False      False\n",
      "4         True      False\n"
     ]
    }
   ],
   "source": [
    "import pandas as pd\n",
    "data=['red','blue','green','blue','green']\n",
    "df=pd.DataFrame(data,columns=['color'])\n",
    "dummy_encoded=pd.get_dummies(df,drop_first=True)\n",
    "print(dummy_encoded)"
   ]
  },
  {
   "cell_type": "code",
   "execution_count": null,
   "id": "7e5bbe36-128b-4a5c-aa4b-76cecce1bfca",
   "metadata": {},
   "outputs": [],
   "source": []
  }
 ],
 "metadata": {
  "kernelspec": {
   "display_name": "Python [conda env:base] *",
   "language": "python",
   "name": "conda-base-py"
  },
  "language_info": {
   "codemirror_mode": {
    "name": "ipython",
    "version": 3
   },
   "file_extension": ".py",
   "mimetype": "text/x-python",
   "name": "python",
   "nbconvert_exporter": "python",
   "pygments_lexer": "ipython3",
   "version": "3.12.7"
  }
 },
 "nbformat": 4,
 "nbformat_minor": 5
}
