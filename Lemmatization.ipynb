{
 "cells": [
  {
   "cell_type": "code",
   "execution_count": 12,
   "id": "b161d0d8-637c-4208-a5f1-53bdad5d1e3c",
   "metadata": {},
   "outputs": [
    {
     "name": "stdout",
     "output_type": "stream",
     "text": [
      "playing,pos='v'\n",
      "goose\n"
     ]
    }
   ],
   "source": [
    "#NLTK\n",
    "from nltk.stem import WordNetLemmatizer\n",
    "lemmatizer=WordNetLemmatizer()\n",
    "print(lemmatizer.lemmatize(\"playing,pos='v'\"))\n",
    "print(lemmatizer.lemmatize(\"geese\"))"
   ]
  },
  {
   "cell_type": "code",
   "execution_count": null,
   "id": "8d2a52c4-3746-4c82-848a-b8175790a729",
   "metadata": {},
   "outputs": [],
   "source": [
    "#spacy\n",
    "import spacy\n",
    "nlp=spacy.load(\"en_core_web_sm\")\n",
    "doc=nlp(\"she was playing other than others.\")\n",
    "for token "
   ]
  }
 ],
 "metadata": {
  "kernelspec": {
   "display_name": "Python [conda env:base] *",
   "language": "python",
   "name": "conda-base-py"
  },
  "language_info": {
   "codemirror_mode": {
    "name": "ipython",
    "version": 3
   },
   "file_extension": ".py",
   "mimetype": "text/x-python",
   "name": "python",
   "nbconvert_exporter": "python",
   "pygments_lexer": "ipython3",
   "version": "3.12.7"
  }
 },
 "nbformat": 4,
 "nbformat_minor": 5
}
