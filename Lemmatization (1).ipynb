{
 "cells": [
  {
   "cell_type": "code",
   "execution_count": 12,
   "id": "b161d0d8-637c-4208-a5f1-53bdad5d1e3c",
   "metadata": {},
   "outputs": [
    {
     "name": "stdout",
     "output_type": "stream",
     "text": [
      "playing,pos='v'\n",
      "goose\n"
     ]
    }
   ],
   "source": [
    "#NLTK\n",
    "from nltk.stem import WordNetLemmatizer\n",
    "lemmatizer=WordNetLemmatizer()\n",
    "print(lemmatizer.lemmatize(\"playing,pos='v'\"))\n",
    "print(lemmatizer.lemmatize(\"geese\"))"
   ]
  },
  {
   "cell_type": "code",
   "execution_count": 4,
   "id": "8d2a52c4-3746-4c82-848a-b8175790a729",
   "metadata": {},
   "outputs": [
    {
     "name": "stdout",
     "output_type": "stream",
     "text": [
      "she: she\n",
      "was: be\n",
      "playing: play\n",
      "other: other\n",
      "than: than\n",
      "others: other\n",
      ".: .\n"
     ]
    }
   ],
   "source": [
    "#spacy\n",
    "import spacy\n",
    "nlp = spacy.load(\"en_core_web_sm\")\n",
    "doc = nlp(\"she was playing other than others.\")\n",
    "for token in doc:\n",
    "    print(f\"{token.text}: {token.lemma_}\")"
   ]
  },
  {
   "cell_type": "code",
   "execution_count": 6,
   "id": "31a3650f-873d-43a0-9989-301db1303229",
   "metadata": {},
   "outputs": [
    {
     "name": "stdout",
     "output_type": "stream",
     "text": [
      "playing:play\n",
      "better:good\n",
      "children:child\n",
      "ate:eat\n"
     ]
    }
   ],
   "source": [
    "#wordnet\n",
    "from nltk.stem import WordNetLemmatizer\n",
    "from nltk.corpus import wordnet\n",
    "lemmatizer=WordNetLemmatizer()\n",
    "words=[(\"playing\",\"v\"),(\"better\",\"a\"),(\"children\",\"n\"),(\"ate\",\"v\")]\n",
    "for word,pos in words:\n",
    "    lemma=lemmatizer.lemmatize(word,pos=pos)\n",
    "    print(f\"{word}:{lemma}\")"
   ]
  },
  {
   "cell_type": "code",
   "execution_count": 8,
   "id": "c9d3bf40-303f-44e5-8543-678700a711a5",
   "metadata": {},
   "outputs": [
    {
     "name": "stdout",
     "output_type": "stream",
     "text": [
      "The:the\n",
      "children:child\n",
      "were:be\n",
      "playing:play\n",
      "happily:happily\n",
      "while:while\n",
      "their:their\n",
      "present:present\n",
      "ate:eat\n",
      "better:well\n",
      "food:food\n"
     ]
    }
   ],
   "source": [
    "#spacy\n",
    "import spacy\n",
    "nlp=spacy.load(\"en_core_web_sm\")\n",
    "text=\"The children were playing happily while their present ate better food\"\n",
    "doc=nlp(text)\n",
    "for token in doc:\n",
    "    print(f\"{token.text}:{token.lemma_}\")"
   ]
  },
  {
   "cell_type": "code",
   "execution_count": 10,
   "id": "e138ca5e-0eaf-473f-a7cc-ef0fa90d65c9",
   "metadata": {},
   "outputs": [
    {
     "name": "stdout",
     "output_type": "stream",
     "text": [
      "walking,pos='v'\n",
      "goose\n"
     ]
    }
   ],
   "source": [
    "from nltk.stem import WordNetLemmatizer\n",
    "lemmatizer=WordNetLemmatizer()\n",
    "print(lemmatizer.lemmatize(\"walking,pos='v'\"))\n",
    "print(lemmatizer.lemmatize(\"goose\"))"
   ]
  },
  {
   "cell_type": "code",
   "execution_count": 12,
   "id": "24642c6c-5d7f-4b00-b263-5c0f18d020df",
   "metadata": {},
   "outputs": [
    {
     "name": "stdout",
     "output_type": "stream",
     "text": [
      "He: he\n",
      "studies: study\n",
      "hard: hard\n",
      "and: and\n",
      "enjoys: enjoy\n",
      "reading: read\n",
      "books: book\n",
      ".: .\n"
     ]
    }
   ],
   "source": [
    "import spacy\n",
    "nlp = spacy.load(\"en_core_web_sm\")\n",
    "doc = nlp(\"He studies hard and enjoys reading books.\")\n",
    "for token in doc:\n",
    "    print(f\"{token.text}: {token.lemma_}\")"
   ]
  },
  {
   "cell_type": "code",
   "execution_count": 34,
   "id": "edaf5814-f701-4a8e-8fae-77814a0d9a1f",
   "metadata": {},
   "outputs": [
    {
     "name": "stdout",
     "output_type": "stream",
     "text": [
      "walking:walk\n",
      "better:good\n",
      "book:book\n",
      "did:do\n"
     ]
    }
   ],
   "source": [
    "from nltk.stem import WordNetLemmatizer\n",
    "from nltk.corpus import wordnet\n",
    "lemmatizer=WordNetLemmatizer()\n",
    "words=[(\"walking\",\"v\"),(\"better\",\"a\"),(\"book\",\"n\"),(\"did\",\"v\")]\n",
    "for word,pos in words:\n",
    "    lemma=lemmatizer.lemmatize(word,pos=pos)\n",
    "    print(f\"{word}:{lemma}\")"
   ]
  },
  {
   "cell_type": "code",
   "execution_count": null,
   "id": "7d86b063-f9e1-490c-8e90-6b2b2316c7b0",
   "metadata": {},
   "outputs": [],
   "source": []
  }
 ],
 "metadata": {
  "kernelspec": {
   "display_name": "Python [conda env:base] *",
   "language": "python",
   "name": "conda-base-py"
  },
  "language_info": {
   "codemirror_mode": {
    "name": "ipython",
    "version": 3
   },
   "file_extension": ".py",
   "mimetype": "text/x-python",
   "name": "python",
   "nbconvert_exporter": "python",
   "pygments_lexer": "ipython3",
   "version": "3.12.7"
  }
 },
 "nbformat": 4,
 "nbformat_minor": 5
}
