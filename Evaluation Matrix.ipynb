{
 "cells": [
  {
   "cell_type": "code",
   "execution_count": 14,
   "id": "c8522e43-a038-4888-a621-c28fdb1bcc1f",
   "metadata": {},
   "outputs": [],
   "source": [
    "#Mean absolute error\n",
    "from sklearn.metrics import mean_absolute_error"
   ]
  },
  {
   "cell_type": "code",
   "execution_count": 16,
   "id": "aced3d2f-8240-4e2d-a31e-a58a1410c936",
   "metadata": {},
   "outputs": [],
   "source": [
    "y_test = [3, -0.5, 2, 7]\n",
    "y_pred = [2.5, 0.0, 2, 8]"
   ]
  },
  {
   "cell_type": "code",
   "execution_count": 18,
   "id": "bce21f49-56a1-4f63-8883-e8c6fb4ee66d",
   "metadata": {},
   "outputs": [],
   "source": [
    "mae = mean_absolute_error(y_test, y_pred)"
   ]
  },
  {
   "cell_type": "code",
   "execution_count": 20,
   "id": "c45486f1-ef33-4a09-9305-23d92166500e",
   "metadata": {},
   "outputs": [
    {
     "name": "stdout",
     "output_type": "stream",
     "text": [
      "Mean Absolute Error: 0.5\n"
     ]
    }
   ],
   "source": [
    "print(\"Mean Absolute Error:\", mae)"
   ]
  },
  {
   "cell_type": "code",
   "execution_count": 22,
   "id": "bcd638cc-7bd1-4a80-b674-26b27a75f9e5",
   "metadata": {},
   "outputs": [],
   "source": [
    "#Mean squared error\n",
    "from sklearn.metrics import mean_squared_error"
   ]
  },
  {
   "cell_type": "code",
   "execution_count": 26,
   "id": "b2042e0f-bf6b-4dd9-9f7f-ee380431b85f",
   "metadata": {},
   "outputs": [],
   "source": [
    "y_test = [3, -0.5, 2, 7]\n",
    "y_pred = [2.5, 0.0, 2, 8]"
   ]
  },
  {
   "cell_type": "code",
   "execution_count": 28,
   "id": "b6f1634d-c0a7-4d72-9e29-2df90c6204c4",
   "metadata": {},
   "outputs": [],
   "source": [
    "mse = mean_squared_error(y_test, y_pred)"
   ]
  },
  {
   "cell_type": "code",
   "execution_count": 30,
   "id": "f4b4fb84-7003-4232-a777-e097ceab1530",
   "metadata": {},
   "outputs": [
    {
     "name": "stdout",
     "output_type": "stream",
     "text": [
      "Mean Squared Error: 0.375\n"
     ]
    }
   ],
   "source": [
    "print(\"Mean Squared Error:\", mse)"
   ]
  },
  {
   "cell_type": "code",
   "execution_count": 32,
   "id": "0a5961d7-0d86-42fc-af1d-b218792780d8",
   "metadata": {},
   "outputs": [],
   "source": [
    "#R Squared(r2-Score)\n",
    "from sklearn.metrics import r2_score"
   ]
  },
  {
   "cell_type": "code",
   "execution_count": 34,
   "id": "ccfa21e1-df3b-4443-a428-9a4e53ca0e69",
   "metadata": {},
   "outputs": [],
   "source": [
    "y_test = [3, -0.5, 2, 7]\n",
    "y_pred = [2.5, 0.0, 2, 8]"
   ]
  },
  {
   "cell_type": "code",
   "execution_count": 36,
   "id": "7d9a517c-bc7f-45eb-b94d-bc5bc173b995",
   "metadata": {},
   "outputs": [],
   "source": [
    "r2 = r2_score(y_test, y_pred)"
   ]
  },
  {
   "cell_type": "code",
   "execution_count": 38,
   "id": "f67f3b13-5bb0-4241-8028-4407a910600d",
   "metadata": {},
   "outputs": [
    {
     "name": "stdout",
     "output_type": "stream",
     "text": [
      "R² Score: 0.9486081370449679\n"
     ]
    }
   ],
   "source": [
    "print(\"R² Score:\", r2)"
   ]
  },
  {
   "cell_type": "code",
   "execution_count": 40,
   "id": "a07c7f21-2bab-4954-83a4-5ca275534812",
   "metadata": {},
   "outputs": [],
   "source": [
    "#Accuracy Score\n",
    "from sklearn.metrics import accuracy_score"
   ]
  },
  {
   "cell_type": "code",
   "execution_count": 44,
   "id": "3874619f-b9ab-4153-a3ad-adbf0d074c6f",
   "metadata": {},
   "outputs": [],
   "source": [
    "y_test = [0, 1, 1, 0, 1]\n",
    "y_pred = [0, 0, 1, 0, 1]"
   ]
  },
  {
   "cell_type": "code",
   "execution_count": 46,
   "id": "b38a3074-575b-433d-ae3e-96208c380007",
   "metadata": {},
   "outputs": [],
   "source": [
    "accuracy = accuracy_score(y_test, y_pred)"
   ]
  },
  {
   "cell_type": "code",
   "execution_count": 48,
   "id": "f656c0ca-66cd-41d5-b897-a542572aa179",
   "metadata": {},
   "outputs": [
    {
     "name": "stdout",
     "output_type": "stream",
     "text": [
      "Accuracy Score: 0.8\n"
     ]
    }
   ],
   "source": [
    "print(\"Accuracy Score:\", accuracy)"
   ]
  },
  {
   "cell_type": "code",
   "execution_count": 50,
   "id": "80a31c59-b303-4a19-93cd-8feb47414987",
   "metadata": {},
   "outputs": [],
   "source": [
    "#Precision\n",
    "from sklearn.metrics import precision_score"
   ]
  },
  {
   "cell_type": "code",
   "execution_count": 52,
   "id": "96bf791b-4141-405a-82e8-3cdcba0f5c56",
   "metadata": {},
   "outputs": [],
   "source": [
    "y_test = [0, 1, 1, 0, 1]\n",
    "y_pred = [0, 0, 1, 0, 1]"
   ]
  },
  {
   "cell_type": "code",
   "execution_count": 54,
   "id": "f9e150b1-9226-44d8-8805-48b7f560df1e",
   "metadata": {},
   "outputs": [],
   "source": [
    "precision = precision_score(y_test, y_pred)"
   ]
  },
  {
   "cell_type": "code",
   "execution_count": 56,
   "id": "e6177880-9d06-479c-bf08-26f3ac0e911a",
   "metadata": {},
   "outputs": [
    {
     "name": "stdout",
     "output_type": "stream",
     "text": [
      "Precision: 1.0\n"
     ]
    }
   ],
   "source": [
    "print(\"Precision:\", precision)"
   ]
  },
  {
   "cell_type": "code",
   "execution_count": 58,
   "id": "b10b11a7-eb66-405a-8ec2-2c2bf60a7a1f",
   "metadata": {},
   "outputs": [],
   "source": [
    "#Recall\n",
    "from sklearn.metrics import recall_score"
   ]
  },
  {
   "cell_type": "code",
   "execution_count": 60,
   "id": "7f6f054e-4a1e-4acd-a76c-2c7cab0694ca",
   "metadata": {},
   "outputs": [],
   "source": [
    "y_test = [0, 1, 1, 0, 1]\n",
    "y_pred = [0, 0, 1, 0, 1]"
   ]
  },
  {
   "cell_type": "code",
   "execution_count": 62,
   "id": "d154a673-05ab-4faf-8057-0706eded446d",
   "metadata": {},
   "outputs": [],
   "source": [
    "recall = recall_score(y_test, y_pred)"
   ]
  },
  {
   "cell_type": "code",
   "execution_count": 64,
   "id": "57c1cafc-b879-46ea-b371-fa91c25d791f",
   "metadata": {},
   "outputs": [
    {
     "name": "stdout",
     "output_type": "stream",
     "text": [
      "Recall: 0.6666666666666666\n"
     ]
    }
   ],
   "source": [
    "print(\"Recall:\", recall)"
   ]
  },
  {
   "cell_type": "code",
   "execution_count": 66,
   "id": "3d1c1e89-d03b-498b-aab2-487f8f29f5a7",
   "metadata": {},
   "outputs": [],
   "source": [
    "#F1-Score\n",
    "from sklearn.metrics import f1_score"
   ]
  },
  {
   "cell_type": "code",
   "execution_count": 68,
   "id": "2980f964-501a-4506-ab39-39ebc5abefbe",
   "metadata": {},
   "outputs": [],
   "source": [
    "y_test = [0, 1, 1, 0, 1]\n",
    "y_pred = [0, 0, 1, 0, 1]"
   ]
  },
  {
   "cell_type": "code",
   "execution_count": 70,
   "id": "14438920-cd1b-414d-aa73-ec29d18e3220",
   "metadata": {},
   "outputs": [],
   "source": [
    "f1 = f1_score(y_test, y_pred)"
   ]
  },
  {
   "cell_type": "code",
   "execution_count": 72,
   "id": "75d4a36e-00c7-4cec-b3d3-f99c36d05565",
   "metadata": {},
   "outputs": [
    {
     "name": "stdout",
     "output_type": "stream",
     "text": [
      "F1-Score: 0.8\n"
     ]
    }
   ],
   "source": [
    "print(\"F1-Score:\", f1)"
   ]
  },
  {
   "cell_type": "code",
   "execution_count": 74,
   "id": "428b6b63-2366-46e5-b0a0-15f663867bf5",
   "metadata": {},
   "outputs": [],
   "source": [
    "#Classification Report\n",
    "from sklearn.metrics import classification_report\n",
    "\n",
    "# Example values (y_test = actual, y_pred = predicted)\n",
    "y_test = [0, 1, 1, 0, 1]\n",
    "y_pred = [0, 0, 1, 0, 1]\n",
    "\n",
    "# Generate Classification Report\n",
    "report = classification_report(y_test, y_pred)\n",
    "print(report)\n"
   ]
  },
  {
   "cell_type": "code",
   "execution_count": null,
   "id": "8af332b1-d46e-4626-bb02-6c10a4fad3a8",
   "metadata": {},
   "outputs": [],
   "source": []
  }
 ],
 "metadata": {
  "kernelspec": {
   "display_name": "Python [conda env:base] *",
   "language": "python",
   "name": "conda-base-py"
  },
  "language_info": {
   "codemirror_mode": {
    "name": "ipython",
    "version": 3
   },
   "file_extension": ".py",
   "mimetype": "text/x-python",
   "name": "python",
   "nbconvert_exporter": "python",
   "pygments_lexer": "ipython3",
   "version": "3.12.7"
  }
 },
 "nbformat": 4,
 "nbformat_minor": 5
}
