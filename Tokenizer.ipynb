{
 "cells": [
  {
   "cell_type": "code",
   "execution_count": 1,
   "id": "330a784a-dc62-44cd-8ace-5321dd42cd25",
   "metadata": {},
   "outputs": [
    {
     "name": "stderr",
     "output_type": "stream",
     "text": [
      "[nltk_data] Downloading package punkt to\n",
      "[nltk_data]     C:\\Users\\Diyanjali\\AppData\\Roaming\\nltk_data...\n",
      "[nltk_data]   Package punkt is already up-to-date!\n"
     ]
    },
    {
     "data": {
      "text/plain": [
       "True"
      ]
     },
     "execution_count": 1,
     "metadata": {},
     "output_type": "execute_result"
    }
   ],
   "source": [
    "import nltk\n",
    "nltk.download('punkt')\n"
   ]
  },
  {
   "cell_type": "code",
   "execution_count": 2,
   "id": "e5362de1-9186-4d58-ba2f-f4525a275a3d",
   "metadata": {},
   "outputs": [
    {
     "data": {
      "text/plain": [
       "FileSystemPathPointer('C:\\\\Users\\\\Diyanjali\\\\AppData\\\\Roaming\\\\nltk_data\\\\tokenizers\\\\punkt')"
      ]
     },
     "execution_count": 2,
     "metadata": {},
     "output_type": "execute_result"
    }
   ],
   "source": [
    "import nltk\n",
    "nltk.data.find('tokenizers/punkt')\n"
   ]
  },
  {
   "cell_type": "code",
   "execution_count": 8,
   "id": "711bcb95-83cd-44b5-901a-24d241bbad36",
   "metadata": {},
   "outputs": [
    {
     "name": "stderr",
     "output_type": "stream",
     "text": [
      "[nltk_data] Downloading package punkt_tab to\n",
      "[nltk_data]     C:\\Users\\Diyanjali\\AppData\\Roaming\\nltk_data...\n",
      "[nltk_data]   Unzipping tokenizers\\punkt_tab.zip.\n"
     ]
    },
    {
     "data": {
      "text/plain": [
       "True"
      ]
     },
     "execution_count": 8,
     "metadata": {},
     "output_type": "execute_result"
    }
   ],
   "source": [
    "\n",
    "import nltk\n",
    "nltk.download('punkt_tab')\n",
    "  "
   ]
  },
  {
   "cell_type": "code",
   "execution_count": 10,
   "id": "917233b9-a015-4e7f-83cb-dfa8bd04ca26",
   "metadata": {},
   "outputs": [
    {
     "name": "stdout",
     "output_type": "stream",
     "text": [
      "['Natural', 'Language', 'Processing', 'is', 'exciting', ',', 'is', \"n't\", 'it', '?']\n"
     ]
    }
   ],
   "source": [
    "from nltk.tokenize import word_tokenize\n",
    "text = \"Natural Language Processing is exciting, isn't it?\"\n",
    "tokens = word_tokenize(text)\n",
    "print(tokens)\n"
   ]
  },
  {
   "cell_type": "code",
   "execution_count": 12,
   "id": "e02b5b99-9502-470f-8c09-9cec715f118e",
   "metadata": {},
   "outputs": [
    {
     "name": "stdout",
     "output_type": "stream",
     "text": [
      "['Natural Language Processing is exciting!', \"Isn't it amazing?\", 'I love learning about it.']\n"
     ]
    }
   ],
   "source": [
    "from nltk.tokenize import sent_tokenize\n",
    "\n",
    "text = \"Natural Language Processing is exciting! Isn't it amazing? I love learning about it.\"\n",
    "\n",
    "# Tokenizing the text into sentences\n",
    "sentences = sent_tokenize(text)\n",
    "\n",
    "print(sentences)\n"
   ]
  },
  {
   "cell_type": "code",
   "execution_count": 1,
   "id": "490a85f9-2d4b-4f89-b4e5-c9e63c11bb5a",
   "metadata": {},
   "outputs": [
    {
     "name": "stdout",
     "output_type": "stream",
     "text": [
      "Requirement already satisfied: spacy in c:\\users\\diyanjali\\anaconda3\\lib\\site-packages (3.8.4)\n",
      "Requirement already satisfied: spacy-legacy<3.1.0,>=3.0.11 in c:\\users\\diyanjali\\anaconda3\\lib\\site-packages (from spacy) (3.0.12)\n",
      "Requirement already satisfied: spacy-loggers<2.0.0,>=1.0.0 in c:\\users\\diyanjali\\anaconda3\\lib\\site-packages (from spacy) (1.0.5)\n",
      "Requirement already satisfied: murmurhash<1.1.0,>=0.28.0 in c:\\users\\diyanjali\\anaconda3\\lib\\site-packages (from spacy) (1.0.12)\n",
      "Requirement already satisfied: cymem<2.1.0,>=2.0.2 in c:\\users\\diyanjali\\anaconda3\\lib\\site-packages (from spacy) (2.0.11)\n",
      "Requirement already satisfied: preshed<3.1.0,>=3.0.2 in c:\\users\\diyanjali\\anaconda3\\lib\\site-packages (from spacy) (3.0.9)\n",
      "Requirement already satisfied: thinc<8.4.0,>=8.3.4 in c:\\users\\diyanjali\\anaconda3\\lib\\site-packages (from spacy) (8.3.4)\n",
      "Requirement already satisfied: wasabi<1.2.0,>=0.9.1 in c:\\users\\diyanjali\\anaconda3\\lib\\site-packages (from spacy) (1.1.3)\n",
      "Requirement already satisfied: srsly<3.0.0,>=2.4.3 in c:\\users\\diyanjali\\anaconda3\\lib\\site-packages (from spacy) (2.5.1)\n",
      "Requirement already satisfied: catalogue<2.1.0,>=2.0.6 in c:\\users\\diyanjali\\anaconda3\\lib\\site-packages (from spacy) (2.0.10)\n",
      "Requirement already satisfied: weasel<0.5.0,>=0.1.0 in c:\\users\\diyanjali\\anaconda3\\lib\\site-packages (from spacy) (0.4.1)\n",
      "Requirement already satisfied: typer<1.0.0,>=0.3.0 in c:\\users\\diyanjali\\anaconda3\\lib\\site-packages (from spacy) (0.9.0)\n",
      "Requirement already satisfied: tqdm<5.0.0,>=4.38.0 in c:\\users\\diyanjali\\anaconda3\\lib\\site-packages (from spacy) (4.66.5)\n",
      "Requirement already satisfied: numpy>=1.19.0 in c:\\users\\diyanjali\\anaconda3\\lib\\site-packages (from spacy) (1.26.4)\n",
      "Requirement already satisfied: requests<3.0.0,>=2.13.0 in c:\\users\\diyanjali\\anaconda3\\lib\\site-packages (from spacy) (2.32.3)\n",
      "Requirement already satisfied: pydantic!=1.8,!=1.8.1,<3.0.0,>=1.7.4 in c:\\users\\diyanjali\\anaconda3\\lib\\site-packages (from spacy) (2.8.2)\n",
      "Requirement already satisfied: jinja2 in c:\\users\\diyanjali\\anaconda3\\lib\\site-packages (from spacy) (3.1.4)\n",
      "Requirement already satisfied: setuptools in c:\\users\\diyanjali\\anaconda3\\lib\\site-packages (from spacy) (75.1.0)\n",
      "Requirement already satisfied: packaging>=20.0 in c:\\users\\diyanjali\\anaconda3\\lib\\site-packages (from spacy) (24.1)\n",
      "Requirement already satisfied: langcodes<4.0.0,>=3.2.0 in c:\\users\\diyanjali\\anaconda3\\lib\\site-packages (from spacy) (3.5.0)\n",
      "Requirement already satisfied: language-data>=1.2 in c:\\users\\diyanjali\\anaconda3\\lib\\site-packages (from langcodes<4.0.0,>=3.2.0->spacy) (1.3.0)\n",
      "Requirement already satisfied: annotated-types>=0.4.0 in c:\\users\\diyanjali\\anaconda3\\lib\\site-packages (from pydantic!=1.8,!=1.8.1,<3.0.0,>=1.7.4->spacy) (0.6.0)\n",
      "Requirement already satisfied: pydantic-core==2.20.1 in c:\\users\\diyanjali\\anaconda3\\lib\\site-packages (from pydantic!=1.8,!=1.8.1,<3.0.0,>=1.7.4->spacy) (2.20.1)\n",
      "Requirement already satisfied: typing-extensions>=4.6.1 in c:\\users\\diyanjali\\anaconda3\\lib\\site-packages (from pydantic!=1.8,!=1.8.1,<3.0.0,>=1.7.4->spacy) (4.11.0)\n",
      "Requirement already satisfied: charset-normalizer<4,>=2 in c:\\users\\diyanjali\\anaconda3\\lib\\site-packages (from requests<3.0.0,>=2.13.0->spacy) (3.3.2)\n",
      "Requirement already satisfied: idna<4,>=2.5 in c:\\users\\diyanjali\\anaconda3\\lib\\site-packages (from requests<3.0.0,>=2.13.0->spacy) (3.7)\n",
      "Requirement already satisfied: urllib3<3,>=1.21.1 in c:\\users\\diyanjali\\anaconda3\\lib\\site-packages (from requests<3.0.0,>=2.13.0->spacy) (2.2.3)\n",
      "Requirement already satisfied: certifi>=2017.4.17 in c:\\users\\diyanjali\\anaconda3\\lib\\site-packages (from requests<3.0.0,>=2.13.0->spacy) (2025.1.31)\n",
      "Requirement already satisfied: blis<1.3.0,>=1.2.0 in c:\\users\\diyanjali\\anaconda3\\lib\\site-packages (from thinc<8.4.0,>=8.3.4->spacy) (1.2.0)\n",
      "Requirement already satisfied: confection<1.0.0,>=0.0.1 in c:\\users\\diyanjali\\anaconda3\\lib\\site-packages (from thinc<8.4.0,>=8.3.4->spacy) (0.1.5)\n",
      "Requirement already satisfied: colorama in c:\\users\\diyanjali\\anaconda3\\lib\\site-packages (from tqdm<5.0.0,>=4.38.0->spacy) (0.4.6)\n",
      "Requirement already satisfied: click<9.0.0,>=7.1.1 in c:\\users\\diyanjali\\anaconda3\\lib\\site-packages (from typer<1.0.0,>=0.3.0->spacy) (8.1.7)\n",
      "Requirement already satisfied: cloudpathlib<1.0.0,>=0.7.0 in c:\\users\\diyanjali\\anaconda3\\lib\\site-packages (from weasel<0.5.0,>=0.1.0->spacy) (0.20.0)\n",
      "Requirement already satisfied: smart-open<8.0.0,>=5.2.1 in c:\\users\\diyanjali\\anaconda3\\lib\\site-packages (from weasel<0.5.0,>=0.1.0->spacy) (5.2.1)\n",
      "Requirement already satisfied: MarkupSafe>=2.0 in c:\\users\\diyanjali\\anaconda3\\lib\\site-packages (from jinja2->spacy) (2.1.3)\n",
      "Requirement already satisfied: marisa-trie>=1.1.0 in c:\\users\\diyanjali\\anaconda3\\lib\\site-packages (from language-data>=1.2->langcodes<4.0.0,>=3.2.0->spacy) (1.2.1)\n"
     ]
    }
   ],
   "source": [
    "!pip install spacy\n"
   ]
  },
  {
   "cell_type": "code",
   "execution_count": 2,
   "id": "8a9c533c-7288-4fed-847d-68c8285f873b",
   "metadata": {},
   "outputs": [
    {
     "name": "stdout",
     "output_type": "stream",
     "text": [
      "Collecting en-core-web-sm==3.8.0\n",
      "  Downloading https://github.com/explosion/spacy-models/releases/download/en_core_web_sm-3.8.0/en_core_web_sm-3.8.0-py3-none-any.whl (12.8 MB)\n",
      "     ---------------------------------------- 0.0/12.8 MB ? eta -:--:--\n",
      "     ---------------------------------------- 0.0/12.8 MB ? eta -:--:--\n",
      "      --------------------------------------- 0.3/12.8 MB ? eta -:--:--\n",
      "     - -------------------------------------- 0.5/12.8 MB 1.4 MB/s eta 0:00:09\n",
      "     -- ------------------------------------- 0.8/12.8 MB 1.2 MB/s eta 0:00:10\n",
      "     --- ------------------------------------ 1.0/12.8 MB 1.2 MB/s eta 0:00:10\n",
      "     --- ------------------------------------ 1.0/12.8 MB 1.2 MB/s eta 0:00:10\n",
      "     --- ------------------------------------ 1.0/12.8 MB 1.2 MB/s eta 0:00:10\n",
      "     --- ----------------------------------- 1.3/12.8 MB 838.9 kB/s eta 0:00:14\n",
      "     --- ----------------------------------- 1.3/12.8 MB 838.9 kB/s eta 0:00:14\n",
      "     --- ----------------------------------- 1.3/12.8 MB 838.9 kB/s eta 0:00:14\n",
      "     --- ----------------------------------- 1.3/12.8 MB 838.9 kB/s eta 0:00:14\n",
      "     --- ----------------------------------- 1.3/12.8 MB 838.9 kB/s eta 0:00:14\n",
      "     --- ----------------------------------- 1.3/12.8 MB 838.9 kB/s eta 0:00:14\n",
      "     --- ----------------------------------- 1.3/12.8 MB 838.9 kB/s eta 0:00:14\n",
      "     --- ----------------------------------- 1.3/12.8 MB 838.9 kB/s eta 0:00:14\n",
      "     ---- ---------------------------------- 1.6/12.8 MB 434.7 kB/s eta 0:00:26\n",
      "     ---- ---------------------------------- 1.6/12.8 MB 434.7 kB/s eta 0:00:26\n",
      "     ---- ---------------------------------- 1.6/12.8 MB 434.7 kB/s eta 0:00:26\n",
      "     ---- ---------------------------------- 1.6/12.8 MB 434.7 kB/s eta 0:00:26\n",
      "     ---- ---------------------------------- 1.6/12.8 MB 434.7 kB/s eta 0:00:26\n",
      "     ---- ---------------------------------- 1.6/12.8 MB 434.7 kB/s eta 0:00:26\n",
      "     ---- ---------------------------------- 1.6/12.8 MB 434.7 kB/s eta 0:00:26\n",
      "     ---- ---------------------------------- 1.6/12.8 MB 434.7 kB/s eta 0:00:26\n",
      "     ----- --------------------------------- 1.8/12.8 MB 324.7 kB/s eta 0:00:34\n",
      "     ----- --------------------------------- 1.8/12.8 MB 324.7 kB/s eta 0:00:34\n",
      "     ----- --------------------------------- 1.8/12.8 MB 324.7 kB/s eta 0:00:34\n",
      "     ----- --------------------------------- 1.8/12.8 MB 324.7 kB/s eta 0:00:34\n",
      "     ------ -------------------------------- 2.1/12.8 MB 327.2 kB/s eta 0:00:33\n",
      "     ------ -------------------------------- 2.1/12.8 MB 327.2 kB/s eta 0:00:33\n",
      "     ------- ------------------------------- 2.4/12.8 MB 351.3 kB/s eta 0:00:30\n",
      "     ------- ------------------------------- 2.6/12.8 MB 377.5 kB/s eta 0:00:27\n",
      "     ------- ------------------------------- 2.6/12.8 MB 377.5 kB/s eta 0:00:27\n",
      "     -------- ------------------------------ 2.9/12.8 MB 387.5 kB/s eta 0:00:26\n",
      "     -------- ------------------------------ 2.9/12.8 MB 387.5 kB/s eta 0:00:26\n",
      "     -------- ------------------------------ 2.9/12.8 MB 387.5 kB/s eta 0:00:26\n",
      "     --------- ----------------------------- 3.1/12.8 MB 390.2 kB/s eta 0:00:25\n",
      "     --------- ----------------------------- 3.1/12.8 MB 390.2 kB/s eta 0:00:25\n",
      "     ---------- ---------------------------- 3.4/12.8 MB 410.9 kB/s eta 0:00:23\n",
      "     ----------- --------------------------- 3.7/12.8 MB 431.0 kB/s eta 0:00:22\n",
      "     ----------- --------------------------- 3.9/12.8 MB 448.3 kB/s eta 0:00:20\n",
      "     ------------ -------------------------- 4.2/12.8 MB 466.1 kB/s eta 0:00:19\n",
      "     ------------ -------------------------- 4.2/12.8 MB 466.1 kB/s eta 0:00:19\n",
      "     ------------- ------------------------- 4.5/12.8 MB 481.9 kB/s eta 0:00:18\n",
      "     -------------- ------------------------ 4.7/12.8 MB 499.5 kB/s eta 0:00:17\n",
      "     --------------- ----------------------- 5.0/12.8 MB 516.3 kB/s eta 0:00:16\n",
      "     --------------- ----------------------- 5.2/12.8 MB 532.2 kB/s eta 0:00:15\n",
      "     ---------------- ---------------------- 5.5/12.8 MB 547.4 kB/s eta 0:00:14\n",
      "     ----------------- --------------------- 5.8/12.8 MB 560.1 kB/s eta 0:00:13\n",
      "     ------------------ -------------------- 6.0/12.8 MB 575.9 kB/s eta 0:00:12\n",
      "     ------------------- ------------------- 6.3/12.8 MB 590.0 kB/s eta 0:00:12\n",
      "     ------------------- ------------------- 6.6/12.8 MB 602.8 kB/s eta 0:00:11\n",
      "     -------------------- ------------------ 6.8/12.8 MB 615.0 kB/s eta 0:00:10\n",
      "     --------------------- ----------------- 7.1/12.8 MB 627.7 kB/s eta 0:00:10\n",
      "     ---------------------- ---------------- 7.3/12.8 MB 638.0 kB/s eta 0:00:09\n",
      "     ---------------------- ---------------- 7.3/12.8 MB 638.0 kB/s eta 0:00:09\n",
      "     ----------------------- --------------- 7.6/12.8 MB 639.2 kB/s eta 0:00:09\n",
      "     ----------------------- --------------- 7.6/12.8 MB 639.2 kB/s eta 0:00:09\n",
      "     ----------------------- --------------- 7.6/12.8 MB 639.2 kB/s eta 0:00:09\n",
      "     ----------------------- --------------- 7.9/12.8 MB 627.8 kB/s eta 0:00:08\n",
      "     ----------------------- --------------- 7.9/12.8 MB 627.8 kB/s eta 0:00:08\n",
      "     ----------------------- --------------- 7.9/12.8 MB 627.8 kB/s eta 0:00:08\n",
      "     ------------------------ -------------- 8.1/12.8 MB 618.3 kB/s eta 0:00:08\n",
      "     ------------------------- ------------- 8.4/12.8 MB 626.6 kB/s eta 0:00:08\n",
      "     -------------------------- ------------ 8.7/12.8 MB 636.1 kB/s eta 0:00:07\n",
      "     --------------------------- ----------- 8.9/12.8 MB 645.3 kB/s eta 0:00:07\n",
      "     --------------------------- ----------- 9.2/12.8 MB 654.2 kB/s eta 0:00:06\n",
      "     ---------------------------- ---------- 9.4/12.8 MB 662.7 kB/s eta 0:00:06\n",
      "     ----------------------------- --------- 9.7/12.8 MB 671.1 kB/s eta 0:00:05\n",
      "     ----------------------------- -------- 10.0/12.8 MB 679.2 kB/s eta 0:00:05\n",
      "     ------------------------------ ------- 10.2/12.8 MB 687.0 kB/s eta 0:00:04\n",
      "     ------------------------------- ------ 10.5/12.8 MB 695.3 kB/s eta 0:00:04\n",
      "     ------------------------------- ------ 10.7/12.8 MB 702.7 kB/s eta 0:00:03\n",
      "     -------------------------------- ----- 11.0/12.8 MB 709.9 kB/s eta 0:00:03\n",
      "     --------------------------------- ---- 11.3/12.8 MB 717.5 kB/s eta 0:00:03\n",
      "     ---------------------------------- --- 11.5/12.8 MB 724.3 kB/s eta 0:00:02\n",
      "     ----------------------------------- -- 11.8/12.8 MB 729.5 kB/s eta 0:00:02\n",
      "     ----------------------------------- -- 12.1/12.8 MB 735.9 kB/s eta 0:00:02\n",
      "     ------------------------------------ - 12.3/12.8 MB 742.1 kB/s eta 0:00:01\n",
      "     -------------------------------------  12.6/12.8 MB 748.1 kB/s eta 0:00:01\n",
      "     -------------------------------------- 12.8/12.8 MB 751.0 kB/s eta 0:00:00\n",
      "\u001b[38;5;2m[+] Download and installation successful\u001b[0m\n",
      "You can now load the package via spacy.load('en_core_web_sm')\n"
     ]
    }
   ],
   "source": [
    "!python -m spacy download en_core_web_sm\n"
   ]
  },
  {
   "cell_type": "code",
   "execution_count": 3,
   "id": "b5021e14-d309-4a00-8028-aa63b7336de8",
   "metadata": {},
   "outputs": [
    {
     "name": "stdout",
     "output_type": "stream",
     "text": [
      "['Natural', 'Language', 'Processing', 'is', 'exciting', ',', 'is', \"n't\", 'it', '?']\n"
     ]
    }
   ],
   "source": [
    "import spacy\n",
    "\n",
    "# Load the English language model\n",
    "nlp = spacy.load(\"en_core_web_sm\")\n",
    "\n",
    "# Sample text\n",
    "text = \"Natural Language Processing is exciting, isn't it?\"\n",
    "\n",
    "# Process the text\n",
    "doc = nlp(text)\n",
    "\n",
    "# Extract tokens (words)\n",
    "tokens = [token.text for token in doc]\n",
    "\n",
    "print(tokens)\n"
   ]
  },
  {
   "cell_type": "code",
   "execution_count": 5,
   "id": "c72a2638-def0-4d6f-acce-eb7148ade060",
   "metadata": {},
   "outputs": [
    {
     "name": "stdout",
     "output_type": "stream",
     "text": [
      "['Natural Language Processing is exciting.', \"Isn't it amazing?\", \"Let's explore it together!\"]\n"
     ]
    }
   ],
   "source": [
    "import spacy\n",
    "\n",
    "# Load the English language model\n",
    "nlp = spacy.load(\"en_core_web_sm\")\n",
    "\n",
    "# Sample text\n",
    "text = \"Natural Language Processing is exciting. Isn't it amazing? Let's explore it together!\"\n",
    "\n",
    "# Process the text\n",
    "doc = nlp(text)\n",
    "\n",
    "# Extract sentence tokens\n",
    "sentences = [sent.text for sent in doc.sents]\n",
    "\n",
    "print(sentences)\n"
   ]
  },
  {
   "cell_type": "code",
   "execution_count": 9,
   "id": "35b49e74-9f10-4ee2-bf45-1bc3e3a2d1e7",
   "metadata": {},
   "outputs": [
    {
     "name": "stdout",
     "output_type": "stream",
     "text": [
      "['Hello', ',', 'how', 'are', 'you', 'doing', 'today', '?']\n"
     ]
    }
   ],
   "source": [
    "import nltk\n",
    "from nltk.tokenize import word_tokenize\n",
    "text=\"Hello, how are you doing today?\"\n",
    "token=word_tokenize(text)\n",
    "print(token)"
   ]
  },
  {
   "cell_type": "code",
   "execution_count": 11,
   "id": "a5adc618-71f1-44e9-a58f-e16ae50697ea",
   "metadata": {},
   "outputs": [
    {
     "name": "stdout",
     "output_type": "stream",
     "text": [
      "['Hello world.', 'This is a tokenizer test.', \"Let's see how it works!\"]\n"
     ]
    }
   ],
   "source": [
    "import nltk\n",
    "from nltk.tokenize import sent_tokenize\n",
    "text=\"Hello world. This is a tokenizer test. Let's see how it works!\"\n",
    "token=sent_tokenize(text)\n",
    "print(token)"
   ]
  },
  {
   "cell_type": "code",
   "execution_count": 17,
   "id": "c8a3c1f9-5815-4ff4-a597-6e8fcf926165",
   "metadata": {},
   "outputs": [
    {
     "name": "stdout",
     "output_type": "stream",
     "text": [
      "['Hello, spaCy!', \"Let's tokenize this sentence.\"]\n"
     ]
    }
   ],
   "source": [
    "import spacy\n",
    "nlp=spacy.load(\"en_core_web_sm\")\n",
    "text=\"Hello, spaCy! Let's tokenize this sentence.\"\n",
    "doc=nlp(text)\n",
    "sentences=[sent.text for sent in doc.sents]\n",
    "print(sentences)"
   ]
  },
  {
   "cell_type": "code",
   "execution_count": null,
   "id": "3b4486a5-6832-4083-8823-153dbcda01b0",
   "metadata": {},
   "outputs": [],
   "source": []
  }
 ],
 "metadata": {
  "kernelspec": {
   "display_name": "Python [conda env:base] *",
   "language": "python",
   "name": "conda-base-py"
  },
  "language_info": {
   "codemirror_mode": {
    "name": "ipython",
    "version": 3
   },
   "file_extension": ".py",
   "mimetype": "text/x-python",
   "name": "python",
   "nbconvert_exporter": "python",
   "pygments_lexer": "ipython3",
   "version": "3.12.7"
  }
 },
 "nbformat": 4,
 "nbformat_minor": 5
}
